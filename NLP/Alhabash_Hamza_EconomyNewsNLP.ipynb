{
 "cells": [
  {
   "cell_type": "code",
   "execution_count": 25,
   "id": "484d5cf9",
   "metadata": {},
   "outputs": [
    {
     "name": "stdout",
     "output_type": "stream",
     "text": [
      "Finsihed loading libraries\n",
      "['John likes to watch movies. Mary likes movies too.', 'John also likes to watch football games. Mary hates football.']\n",
      "2\n"
     ]
    }
   ],
   "source": [
    "import numpy as np\n",
    "import pandas as pd \n",
    "import seaborn as sns\n",
    "import matplotlib\n",
    "from matplotlib import pyplot as plt\n",
    "print('Finsihed loading libraries')\n",
    "#use a small test data\n",
    "corpus = ['John likes to watch movies. Mary likes movies too.',\n",
    "         'John also likes to watch football games. Mary hates football.']\n",
    "print(corpus)\n",
    "print(len(corpus))\n",
    "#import the count vectorizer class\n",
    "from sklearn.feature_extraction.text import CountVectorizer\n"
   ]
  },
  {
   "cell_type": "code",
   "execution_count": 26,
   "id": "deeb163c",
   "metadata": {},
   "outputs": [
    {
     "name": "stdout",
     "output_type": "stream",
     "text": [
      "['also' 'football' 'games' 'hates' 'john' 'likes' 'mary' 'movies' 'to'\n",
      " 'too' 'watch']\n",
      "[[0 0 0 0 1 2 1 2 1 1 1]\n",
      " [1 2 1 1 1 1 1 0 1 0 1]]\n",
      "[[0 0 0 0 1 2 1 2 1]\n",
      " [1 2 1 1 1 1 1 0 1]]\n",
      "['also' 'footbal' 'game' 'hate' 'john' 'like' 'mari' 'movi' 'watch']\n"
     ]
    },
    {
     "data": {
      "text/html": [
       "<div>\n",
       "<style scoped>\n",
       "    .dataframe tbody tr th:only-of-type {\n",
       "        vertical-align: middle;\n",
       "    }\n",
       "\n",
       "    .dataframe tbody tr th {\n",
       "        vertical-align: top;\n",
       "    }\n",
       "\n",
       "    .dataframe thead th {\n",
       "        text-align: right;\n",
       "    }\n",
       "</style>\n",
       "<table border=\"1\" class=\"dataframe\">\n",
       "  <thead>\n",
       "    <tr style=\"text-align: right;\">\n",
       "      <th></th>\n",
       "      <th>also</th>\n",
       "      <th>footbal</th>\n",
       "      <th>game</th>\n",
       "      <th>hate</th>\n",
       "      <th>john</th>\n",
       "      <th>like</th>\n",
       "      <th>mari</th>\n",
       "      <th>movi</th>\n",
       "      <th>watch</th>\n",
       "    </tr>\n",
       "  </thead>\n",
       "  <tbody>\n",
       "    <tr>\n",
       "      <th>0</th>\n",
       "      <td>0</td>\n",
       "      <td>0</td>\n",
       "      <td>0</td>\n",
       "      <td>0</td>\n",
       "      <td>1</td>\n",
       "      <td>2</td>\n",
       "      <td>1</td>\n",
       "      <td>2</td>\n",
       "      <td>1</td>\n",
       "    </tr>\n",
       "    <tr>\n",
       "      <th>1</th>\n",
       "      <td>1</td>\n",
       "      <td>2</td>\n",
       "      <td>1</td>\n",
       "      <td>1</td>\n",
       "      <td>1</td>\n",
       "      <td>1</td>\n",
       "      <td>1</td>\n",
       "      <td>0</td>\n",
       "      <td>1</td>\n",
       "    </tr>\n",
       "  </tbody>\n",
       "</table>\n",
       "</div>"
      ],
      "text/plain": [
       "   also  footbal  game  hate  john  like  mari  movi  watch\n",
       "0     0        0     0     0     1     2     1     2      1\n",
       "1     1        2     1     1     1     1     1     0      1"
      ]
     },
     "execution_count": 26,
     "metadata": {},
     "output_type": "execute_result"
    }
   ],
   "source": [
    "# instantiate the class\n",
    "vectorizer = CountVectorizer()\n",
    "X = vectorizer.fit_transform(corpus)\n",
    "featureNames = vectorizer.get_feature_names_out()\n",
    "print(featureNames)\n",
    "#print the transformed data in matrix form\n",
    "print(X.toarray())\n",
    "#functions for pre-processing\n",
    "import string\n",
    "import re\n",
    "import nltk\n",
    "stopword = nltk.corpus.stopwords.words('english')# All English Stopwords\n",
    "ps = nltk.PorterStemmer()\n",
    "def stemming(tokenized_text):\n",
    "    text = [ps.stem(word) for word in tokenized_text]\n",
    "    return text\n",
    "# Function to remove Stopwords\n",
    "def remove_stopwords(tokenized_list):\n",
    "    text = [word for word in tokenized_list if word not in stopword]# To remove all stopwords\n",
    "    return text\n",
    "def clean_text(text):\n",
    "    #text = text.replace(\"</br>\", \" \")\n",
    "    text = \"\".join([word.lower() for word in text if word not in string.punctuation])\n",
    "    tokens = re.split('\\W+', text)\n",
    "    text = [ps.stem(word) for word in tokens if word not in stopword]\n",
    "    return text\n",
    "\n",
    "#try again with pre=processing\n",
    "count_vect = CountVectorizer(analyzer=clean_text)\n",
    "X_counts = count_vect.fit_transform(corpus)\n",
    "print(X_counts.toarray())\n",
    "featureNames = count_vect.get_feature_names_out()\n",
    "print(featureNames)\n",
    "X_counts_df = pd.DataFrame(X_counts.toarray(), columns=count_vect.get_feature_names_out())\n",
    "X_counts_df.head(10)\n"
   ]
  },
  {
   "cell_type": "code",
   "execution_count": 18,
   "id": "0b5e9221",
   "metadata": {},
   "outputs": [
    {
     "name": "stdout",
     "output_type": "stream",
     "text": [
      "['also' 'footbal' 'game' 'hate' 'john' 'like' 'mari' 'movi' 'watch']\n"
     ]
    },
    {
     "data": {
      "text/html": [
       "<div>\n",
       "<style scoped>\n",
       "    .dataframe tbody tr th:only-of-type {\n",
       "        vertical-align: middle;\n",
       "    }\n",
       "\n",
       "    .dataframe tbody tr th {\n",
       "        vertical-align: top;\n",
       "    }\n",
       "\n",
       "    .dataframe thead th {\n",
       "        text-align: right;\n",
       "    }\n",
       "</style>\n",
       "<table border=\"1\" class=\"dataframe\">\n",
       "  <thead>\n",
       "    <tr style=\"text-align: right;\">\n",
       "      <th></th>\n",
       "      <th>also</th>\n",
       "      <th>footbal</th>\n",
       "      <th>game</th>\n",
       "      <th>hate</th>\n",
       "      <th>john</th>\n",
       "      <th>like</th>\n",
       "      <th>mari</th>\n",
       "      <th>movi</th>\n",
       "      <th>watch</th>\n",
       "    </tr>\n",
       "  </thead>\n",
       "  <tbody>\n",
       "    <tr>\n",
       "      <th>0</th>\n",
       "      <td>0.000000</td>\n",
       "      <td>0.000000</td>\n",
       "      <td>0.000000</td>\n",
       "      <td>0.000000</td>\n",
       "      <td>0.259052</td>\n",
       "      <td>0.518105</td>\n",
       "      <td>0.259052</td>\n",
       "      <td>0.728178</td>\n",
       "      <td>0.259052</td>\n",
       "    </tr>\n",
       "    <tr>\n",
       "      <th>1</th>\n",
       "      <td>0.332872</td>\n",
       "      <td>0.665744</td>\n",
       "      <td>0.332872</td>\n",
       "      <td>0.332872</td>\n",
       "      <td>0.236841</td>\n",
       "      <td>0.236841</td>\n",
       "      <td>0.236841</td>\n",
       "      <td>0.000000</td>\n",
       "      <td>0.236841</td>\n",
       "    </tr>\n",
       "  </tbody>\n",
       "</table>\n",
       "</div>"
      ],
      "text/plain": [
       "       also   footbal      game      hate      john      like      mari  \\\n",
       "0  0.000000  0.000000  0.000000  0.000000  0.259052  0.518105  0.259052   \n",
       "1  0.332872  0.665744  0.332872  0.332872  0.236841  0.236841  0.236841   \n",
       "\n",
       "       movi     watch  \n",
       "0  0.728178  0.259052  \n",
       "1  0.000000  0.236841  "
      ]
     },
     "execution_count": 18,
     "metadata": {},
     "output_type": "execute_result"
    }
   ],
   "source": [
    "from sklearn.feature_extraction.text import TfidfVectorizer\n",
    "#create an object/instance\n",
    "tf_vectorizer = TfidfVectorizer(analyzer=clean_text)\n",
    "#get tf -idf values\n",
    "X_counts = tf_vectorizer.fit_transform(corpus)\n",
    "featureNames = tf_vectorizer.get_feature_names_out()\n",
    "print( featureNames )\n",
    "X_counts_df = pd.DataFrame(X_counts.toarray(), columns=tf_vectorizer.get_feature_names_out())\n",
    "X_counts_df.head(10)\n"
   ]
  },
  {
   "cell_type": "code",
   "execution_count": 19,
   "id": "5463e618",
   "metadata": {},
   "outputs": [],
   "source": [
    "from gensim.models import Word2Vec, KeyedVectors\n",
    "from nltk.corpus import stopwords\n",
    "from nltk.tokenize import word_tokenize\n",
    "from string import punctuation\n",
    "#preprocess the text.\n",
    "def preprocess_corpus(texts):\n",
    "    mystopwords = set(stopwords.words(\"english\"))\n",
    "    def remove_stops_digits(tokens):\n",
    "        #Nested function that lowercases, removes stopwords and digits from a list of tokens\n",
    "        return [token.lower() for token in tokens if token.lower() not in mystopwords and not token.isdigit()\n",
    "               and token not in punctuation]\n",
    "    #This return statement below uses the above function to process twitter tokenizer output further. \n",
    "    return [remove_stops_digits(word_tokenize(text)) for text in texts]\n"
   ]
  },
  {
   "cell_type": "code",
   "execution_count": 20,
   "id": "35d9e1c6",
   "metadata": {},
   "outputs": [
    {
     "name": "stdout",
     "output_type": "stream",
     "text": [
      "[['john', 'likes', 'watch', 'movies', 'mary', 'likes', 'movies'], ['john', 'also', 'likes', 'watch', 'football', 'games', 'mary', 'hates', 'football']]\n"
     ]
    }
   ],
   "source": [
    "#tokenize the sentences\n",
    "sentences = preprocess_corpus(corpus)\n",
    "print(sentences)\n",
    "from gensim.models import Word2Vec\n",
    "model = Word2Vec(sentences=sentences, min_count=1, vector_size=10)"
   ]
  },
  {
   "cell_type": "markdown",
   "id": "adb19c47",
   "metadata": {},
   "source": [
    "# Economy News"
   ]
  },
  {
   "cell_type": "code",
   "execution_count": 32,
   "id": "b00e9512",
   "metadata": {},
   "outputs": [
    {
     "name": "stdout",
     "output_type": "stream",
     "text": [
      "(7991, 2)\n",
      "                                                text  relevance\n",
      "0  NEW YORK -- Yields on most certificates of dep...          1\n",
      "1  The Wall Street Journal Online</br></br>The Mo...          0\n",
      "2  WASHINGTON -- In an effort to achieve banking ...          0\n",
      "3  The statistics on the enormous costs of employ...          0\n",
      "4  NEW YORK -- Indecision marked the dollar's ton...          1\n"
     ]
    }
   ],
   "source": [
    "import pandas as pd\n",
    "our_data = pd.read_csv(\"Full-Economic-News-DFE-839861.txt\" , encoding = \"ISO-8859-1\" )\n",
    "our_data.shape\n",
    "# convert label to a numerical variable\n",
    "our_data = our_data[our_data.relevance != \"not sure\"] # removing the data where we don't want relevance=\"not sure\".\n",
    "our_data.shape\n",
    "our_data['relevance'] = our_data.relevance.map({'yes':1, 'no':0}) # relevant is 1, not-relevant is 0. \n",
    "our_data = our_data[[\"text\",\"relevance\"]] # Let us take only the two columns we need.\n",
    "print(our_data.shape)\n",
    "print(our_data.head())\n",
    "\n",
    "from sklearn.feature_extraction import _stop_words\n",
    "stopwords = _stop_words.ENGLISH_STOP_WORDS\n",
    "def clean(doc): # doc is a string of text\n",
    "    doc = doc.replace(\"</br>\", \" \") # This text contains a lot of <br/> tags.\n",
    "    doc = \"\".join([char for char in doc if char not in string.punctuation and not char.isdigit()])\n",
    "    doc = \" \".join([token for token in doc.split() if token not in stopwords])\n",
    "    # remove punctuation and numbers\n",
    "    return doc"
   ]
  },
  {
   "cell_type": "markdown",
   "id": "e84669d6",
   "metadata": {},
   "source": [
    "# Count-Vectorizer Model"
   ]
  },
  {
   "cell_type": "code",
   "execution_count": 33,
   "id": "6e1af607",
   "metadata": {},
   "outputs": [
    {
     "name": "stdout",
     "output_type": "stream",
     "text": [
      "['relevance' 'text']\n",
      "[[0 1]\n",
      " [1 0]]\n",
      "[[0 1]\n",
      " [1 0]]\n",
      "['relev' 'text']\n"
     ]
    },
    {
     "data": {
      "text/html": [
       "<div>\n",
       "<style scoped>\n",
       "    .dataframe tbody tr th:only-of-type {\n",
       "        vertical-align: middle;\n",
       "    }\n",
       "\n",
       "    .dataframe tbody tr th {\n",
       "        vertical-align: top;\n",
       "    }\n",
       "\n",
       "    .dataframe thead th {\n",
       "        text-align: right;\n",
       "    }\n",
       "</style>\n",
       "<table border=\"1\" class=\"dataframe\">\n",
       "  <thead>\n",
       "    <tr style=\"text-align: right;\">\n",
       "      <th></th>\n",
       "      <th>relev</th>\n",
       "      <th>text</th>\n",
       "    </tr>\n",
       "  </thead>\n",
       "  <tbody>\n",
       "    <tr>\n",
       "      <th>0</th>\n",
       "      <td>0</td>\n",
       "      <td>1</td>\n",
       "    </tr>\n",
       "    <tr>\n",
       "      <th>1</th>\n",
       "      <td>1</td>\n",
       "      <td>0</td>\n",
       "    </tr>\n",
       "  </tbody>\n",
       "</table>\n",
       "</div>"
      ],
      "text/plain": [
       "   relev  text\n",
       "0      0     1\n",
       "1      1     0"
      ]
     },
     "execution_count": 33,
     "metadata": {},
     "output_type": "execute_result"
    }
   ],
   "source": [
    "# instantiate the class\n",
    "vectorizer = CountVectorizer()\n",
    "X = vectorizer.fit_transform(our_data)\n",
    "featureNames = vectorizer.get_feature_names_out()\n",
    "print(featureNames)\n",
    "#print the transformed data in matrix form\n",
    "print(X.toarray())\n",
    "#functions for pre-processing\n",
    "import string\n",
    "import re\n",
    "import nltk\n",
    "stopword = nltk.corpus.stopwords.words('english')# All English Stopwords\n",
    "ps = nltk.PorterStemmer()\n",
    "def stemming(tokenized_text):\n",
    "    text = [ps.stem(word) for word in tokenized_text]\n",
    "    return text\n",
    "# Function to remove Stopwords\n",
    "def remove_stopwords(tokenized_list):\n",
    "    text = [word for word in tokenized_list if word not in stopword]# To remove all stopwords\n",
    "    return text\n",
    "def clean_text(text):\n",
    "    #text = text.replace(\"</br>\", \" \")\n",
    "    text = \"\".join([word.lower() for word in text if word not in string.punctuation])\n",
    "    tokens = re.split('\\W+', text)\n",
    "    text = [ps.stem(word) for word in tokens if word not in stopword]\n",
    "    return text\n",
    "\n",
    "#try again with pre=processing\n",
    "count_vect = CountVectorizer(analyzer=clean_text)\n",
    "X_counts = count_vect.fit_transform(our_data)\n",
    "print(X_counts.toarray())\n",
    "featureNames = count_vect.get_feature_names_out()\n",
    "print(featureNames)\n",
    "X_counts_df = pd.DataFrame(X_counts.toarray(), columns=count_vect.get_feature_names_out())\n",
    "X_counts_df.head(10)"
   ]
  },
  {
   "cell_type": "markdown",
   "id": "af7e7c26",
   "metadata": {},
   "source": [
    "## Naive classifier"
   ]
  },
  {
   "cell_type": "code",
   "execution_count": 34,
   "id": "e359bc47",
   "metadata": {},
   "outputs": [
    {
     "name": "stdout",
     "output_type": "stream",
     "text": [
      "(7991,) (7991,)\n",
      "(6392,)\n",
      "(6392,)\n",
      "(1599,)\n",
      "(1599,)\n",
      "(6392, 51416) (1599, 51416)\n"
     ]
    },
    {
     "data": {
      "text/plain": [
       "MultinomialNB()"
      ]
     },
     "execution_count": 34,
     "metadata": {},
     "output_type": "execute_result"
    }
   ],
   "source": [
    "# import classifiers from sklearn\n",
    "from sklearn.naive_bayes import MultinomialNB\n",
    "from sklearn.linear_model import LogisticRegression\n",
    "from sklearn.model_selection import train_test_split\n",
    "# Step 1: train-test split\n",
    "x = our_data.text # the column text contains textual data to extract features from\n",
    "y = our_data.relevance # this is the column we are learning to predict. \n",
    "print(x.shape, y.shape)\n",
    "# split X and y into training and testing sets # random_state=1 for reproducibility\n",
    "x_train, x_test, y_train, y_test = train_test_split(x, y, test_size=0.2,random_state=1)\n",
    "print(x_train.shape)\n",
    "print(y_train.shape)\n",
    "print(x_test.shape)\n",
    "print(y_test.shape)\n",
    "# Step 2-3: Preprocess and Vectorize train and test data\n",
    "vect = CountVectorizer(preprocessor=clean) # instantiate a vectoriezer\n",
    "x_train_dtm = vect.fit_transform(x_train)# use it to extract features from training data\n",
    "# transform testing data (using training data's features)\n",
    "x_test_dtm = vect.transform(x_test)\n",
    "print(x_train_dtm.shape, x_test_dtm.shape)\n",
    "\n",
    "# Step 3: Train the classifier and predict for test data\n",
    "nb = MultinomialNB() # instantiate a Multinomial Naive Bayes model\n",
    "nb.fit(x_train_dtm, y_train) # train the model(timing it with an IPython \"magic command\")"
   ]
  },
  {
   "cell_type": "markdown",
   "id": "99397126",
   "metadata": {},
   "source": [
    "## Confusion Matrix & Accuracy"
   ]
  },
  {
   "cell_type": "code",
   "execution_count": 35,
   "id": "503165e6",
   "metadata": {},
   "outputs": [
    {
     "name": "stdout",
     "output_type": "stream",
     "text": [
      "Accuracy:  0.7779862414008756\n"
     ]
    },
    {
     "data": {
      "image/png": "[encoded data removed]",
      "text/plain": [
       "<Figure size 432x288 with 2 Axes>"
      ]
     },
     "metadata": {
      "needs_background": "light"
     },
     "output_type": "display_data"
    }
   ],
   "source": [
    "y_pred_class = nb.predict(x_test_dtm)\n",
    "from sklearn.metrics import accuracy_score\n",
    "#check the accuracy\n",
    "# Print accuracy:\n",
    "print(\"Accuracy: \", accuracy_score(y_test, y_pred_class))\n",
    "# Make the Confusion Matrix\n",
    "from sklearn.metrics import confusion_matrix\n",
    "cm = confusion_matrix(y_test, y_pred_class)\n",
    "class_label = [\"Not relevant\", \"Relevant\"]\n",
    "df_cm = pd.DataFrame(cm, index=class_label,columns=class_label)\n",
    "sns.heatmap(df_cm, annot=True, fmt='d', cmap='Blues')\n",
    "plt.title(\"Confusion Matrix\")\n",
    "plt.xlabel(\"Predicted Label\")\n",
    "plt.ylabel(\"True Label\")\n",
    "plt.show()"
   ]
  },
  {
   "cell_type": "markdown",
   "id": "faaa6a21",
   "metadata": {},
   "source": [
    "# TF_IDF Model"
   ]
  },
  {
   "cell_type": "code",
   "execution_count": 36,
   "id": "33f84d62",
   "metadata": {},
   "outputs": [
    {
     "name": "stdout",
     "output_type": "stream",
     "text": [
      "['relevance' 'text']\n",
      "[[0. 1.]\n",
      " [1. 0.]]\n",
      "[[0. 1.]\n",
      " [1. 0.]]\n",
      "['relev' 'text']\n"
     ]
    },
    {
     "data": {
      "text/html": [
       "<div>\n",
       "<style scoped>\n",
       "    .dataframe tbody tr th:only-of-type {\n",
       "        vertical-align: middle;\n",
       "    }\n",
       "\n",
       "    .dataframe tbody tr th {\n",
       "        vertical-align: top;\n",
       "    }\n",
       "\n",
       "    .dataframe thead th {\n",
       "        text-align: right;\n",
       "    }\n",
       "</style>\n",
       "<table border=\"1\" class=\"dataframe\">\n",
       "  <thead>\n",
       "    <tr style=\"text-align: right;\">\n",
       "      <th></th>\n",
       "      <th>relev</th>\n",
       "      <th>text</th>\n",
       "    </tr>\n",
       "  </thead>\n",
       "  <tbody>\n",
       "    <tr>\n",
       "      <th>0</th>\n",
       "      <td>0.0</td>\n",
       "      <td>1.0</td>\n",
       "    </tr>\n",
       "    <tr>\n",
       "      <th>1</th>\n",
       "      <td>1.0</td>\n",
       "      <td>0.0</td>\n",
       "    </tr>\n",
       "  </tbody>\n",
       "</table>\n",
       "</div>"
      ],
      "text/plain": [
       "   relev  text\n",
       "0    0.0   1.0\n",
       "1    1.0   0.0"
      ]
     },
     "execution_count": 36,
     "metadata": {},
     "output_type": "execute_result"
    }
   ],
   "source": [
    "# instantiate the class\n",
    "vectorizer = TfidfVectorizer()\n",
    "X = vectorizer.fit_transform(our_data)\n",
    "featureNames = vectorizer.get_feature_names_out()\n",
    "print(featureNames)\n",
    "#print the transformed data in matrix form\n",
    "print(X.toarray())\n",
    "#functions for pre-processing\n",
    "import string\n",
    "import re\n",
    "import nltk\n",
    "stopword = nltk.corpus.stopwords.words('english')# All English Stopwords\n",
    "ps = nltk.PorterStemmer()\n",
    "def stemming(tokenized_text):\n",
    "    text = [ps.stem(word) for word in tokenized_text]\n",
    "    return text\n",
    "# Function to remove Stopwords\n",
    "def remove_stopwords(tokenized_list):\n",
    "    text = [word for word in tokenized_list if word not in stopword]# To remove all stopwords\n",
    "    return text\n",
    "def clean_text(text):\n",
    "    #text = text.replace(\"</br>\", \" \")\n",
    "    text = \"\".join([word.lower() for word in text if word not in string.punctuation])\n",
    "    tokens = re.split('\\W+', text)\n",
    "    text = [ps.stem(word) for word in tokens if word not in stopword]\n",
    "    return text\n",
    "\n",
    "#try again with pre=processing\n",
    "tf_vectorizer = TfidfVectorizer(analyzer=clean_text)\n",
    "X_counts = tf_vectorizer.fit_transform(our_data)\n",
    "print(X_counts.toarray())\n",
    "featureNames = tf_vectorizer.get_feature_names_out()\n",
    "print(featureNames)\n",
    "X_counts_df = pd.DataFrame(X_counts.toarray(), columns=tf_vectorizer.get_feature_names_out())\n",
    "X_counts_df.head(10)"
   ]
  },
  {
   "cell_type": "markdown",
   "id": "5219fe76",
   "metadata": {},
   "source": [
    "## Naive classifier"
   ]
  },
  {
   "cell_type": "code",
   "execution_count": 40,
   "id": "17714628",
   "metadata": {},
   "outputs": [
    {
     "name": "stdout",
     "output_type": "stream",
     "text": [
      "(7991,) (7991,)\n",
      "(6392,)\n",
      "(6392,)\n",
      "(1599,)\n",
      "(1599,)\n",
      "(6392, 51416) (1599, 51416)\n"
     ]
    },
    {
     "data": {
      "text/plain": [
       "MultinomialNB()"
      ]
     },
     "execution_count": 40,
     "metadata": {},
     "output_type": "execute_result"
    }
   ],
   "source": [
    "# import classifiers from sklearn\n",
    "from sklearn.naive_bayes import MultinomialNB\n",
    "from sklearn.linear_model import LogisticRegression\n",
    "from sklearn.model_selection import train_test_split\n",
    "# Step 1: train-test split\n",
    "x = our_data.text # the column text contains textual data to extract features from\n",
    "y = our_data.relevance # this is the column we are learning to predict. \n",
    "print(x.shape, y.shape)\n",
    "# split X and y into training and testing sets # random_state=1 for reproducibility\n",
    "x_train, x_test, y_train, y_test = train_test_split(x, y, test_size=0.2,random_state=1)\n",
    "print(x_train.shape)\n",
    "print(y_train.shape)\n",
    "print(x_test.shape)\n",
    "print(y_test.shape)\n",
    "# Step 2-3: Preprocess and Vectorize train and test data\n",
    "vect = TfidfVectorizer(preprocessor=clean) # instantiate a vectoriezer\n",
    "x_train_dtm = vect.fit_transform(x_train)# use it to extract features from training data\n",
    "# transform testing data (using training data's features)\n",
    "x_test_dtm = vect.transform(x_test)\n",
    "print(x_train_dtm.shape, x_test_dtm.shape)\n",
    "\n",
    "# Step 3: Train the classifier and predict for test data\n",
    "nb = MultinomialNB() # instantiate a Multinomial Naive Bayes model\n",
    "nb.fit(x_train_dtm, y_train) # train the model(timing it with an IPython \"magic command\")"
   ]
  },
  {
   "cell_type": "markdown",
   "id": "a593947e",
   "metadata": {},
   "source": [
    "## Confusion Matrix & Accuracy"
   ]
  },
  {
   "cell_type": "code",
   "execution_count": 44,
   "id": "011bb64b",
   "metadata": {},
   "outputs": [
    {
     "name": "stdout",
     "output_type": "stream",
     "text": [
      "Accuracy:  0.8298936835522202\n"
     ]
    },
    {
     "data": {
      "image/png": "[encoded data removed]",
      "text/plain": [
       "<Figure size 432x288 with 2 Axes>"
      ]
     },
     "metadata": {
      "needs_background": "light"
     },
     "output_type": "display_data"
    }
   ],
   "source": [
    "y_pred_class = nb.predict(x_test_dtm)\n",
    "from sklearn.metrics import accuracy_score\n",
    "#check the accuracy\n",
    "# Print accuracy:\n",
    "print(\"Accuracy: \", accuracy_score(y_test, y_pred_class))\n",
    "# Make the Confusion Matrix\n",
    "from sklearn.metrics import confusion_matrix\n",
    "cm = confusion_matrix(y_test, y_pred_class)\n",
    "class_label = [\"Not relevant\", \"Relevant\"]\n",
    "df_cm = pd.DataFrame(cm, index=class_label,columns=class_label)\n",
    "sns.heatmap(df_cm, annot=True, fmt='d', cmap='Blues')\n",
    "plt.title(\"Confusion Matrix\")\n",
    "plt.xlabel(\"Predicted Label\")\n",
    "plt.ylabel(\"True Label\")\n",
    "plt.show()"
   ]
  },
  {
   "cell_type": "markdown",
   "id": "e60b069e",
   "metadata": {},
   "source": [
    "# Word-Embedding W2V Model"
   ]
  },
  {
   "cell_type": "code",
   "execution_count": 50,
   "id": "dae5ea60",
   "metadata": {},
   "outputs": [
    {
     "name": "stdout",
     "output_type": "stream",
     "text": [
      "7991\n"
     ]
    }
   ],
   "source": [
    "# instantiate the class\n",
    "#assign w2v_model to model above it\n",
    "w2v_model = model\n",
    "# Creating a feature vector by averaging all embeddings for all sentences\n",
    "def embedding_feats(list_of_lists):\n",
    "    DIMENSION = 300\n",
    "    zero_vector = np.zeros(DIMENSION)\n",
    "    feats = []\n",
    "    for tokens in list_of_lists:\n",
    "        feat_for_this =  np.zeros(DIMENSION)\n",
    "        count_for_this = 0 + 1e-5 # to avoid divide-by-zero \n",
    "        for token in tokens:\n",
    "            if token in model.wv.key_to_index:\n",
    "                feat_for_this += model.wv.key_to_index[token]\n",
    "                count_for_this +=1\n",
    "        if(count_for_this!=0):\n",
    "            feats.append(feat_for_this/count_for_this) \n",
    "        else:\n",
    "            feats.append(zero_vector)\n",
    "    return feats\n",
    "\n",
    "train_vectors = embedding_feats(our_data.text)\n",
    "print(len(train_vectors))"
   ]
  },
  {
   "cell_type": "markdown",
   "id": "f9d78595",
   "metadata": {},
   "source": [
    "## Naive classifier"
   ]
  },
  {
   "cell_type": "code",
   "execution_count": 52,
   "id": "5641e129",
   "metadata": {},
   "outputs": [
    {
     "name": "stdout",
     "output_type": "stream",
     "text": [
      "(7991,) (7991,)\n",
      "(6392,)\n",
      "(6392,)\n",
      "(1599,)\n",
      "(1599,)\n",
      "(6392, 51416) (1599, 51416)\n"
     ]
    },
    {
     "data": {
      "text/plain": [
       "MultinomialNB()"
      ]
     },
     "execution_count": 52,
     "metadata": {},
     "output_type": "execute_result"
    }
   ],
   "source": [
    "# import classifiers from sklearn\n",
    "from sklearn.naive_bayes import MultinomialNB\n",
    "from sklearn.linear_model import LogisticRegression\n",
    "from sklearn.model_selection import train_test_split\n",
    "# Step 1: train-test split\n",
    "x = our_data.text # the column text contains textual data to extract features from\n",
    "y = our_data.relevance # this is the column we are learning to predict. \n",
    "print(x.shape, y.shape)\n",
    "# split X and y into training and testing sets # random_state=1 for reproducibility\n",
    "x_train, x_test, y_train, y_test = train_test_split(x, y, test_size=0.2,random_state=1)\n",
    "print(x_train.shape)\n",
    "print(y_train.shape)\n",
    "print(x_test.shape)\n",
    "print(y_test.shape)\n",
    "# Step 2-3: Preprocess and Vectorize train and test data\n",
    "vect = TfidfVectorizer(preprocessor=clean) # instantiate a vectoriezer\n",
    "x_train_dtm = vect.fit_transform(x_train)# use it to extract features from training data\n",
    "# transform testing data (using training data's features)\n",
    "x_test_dtm = vect.transform(x_test)\n",
    "print(x_train_dtm.shape, x_test_dtm.shape)\n",
    "\n",
    "# Step 3: Train the classifier and predict for test data\n",
    "nb = MultinomialNB() # instantiate a Multinomial Naive Bayes model\n",
    "nb.fit(x_train_dtm, y_train) # train the model(timing it with an IPython \"magic command\")"
   ]
  },
  {
   "cell_type": "code",
   "execution_count": 53,
   "id": "716a1c80",
   "metadata": {},
   "outputs": [
    {
     "name": "stdout",
     "output_type": "stream",
     "text": [
      "Accuracy:  0.8298936835522202\n"
     ]
    },
    {
     "data": {
      "image/png": "[encoded data removed]",
      "text/plain": [
       "<Figure size 432x288 with 2 Axes>"
      ]
     },
     "metadata": {
      "needs_background": "light"
     },
     "output_type": "display_data"
    }
   ],
   "source": [
    "y_pred_class = nb.predict(x_test_dtm)\n",
    "from sklearn.metrics import accuracy_score\n",
    "#check the accuracy\n",
    "# Print accuracy:\n",
    "print(\"Accuracy: \", accuracy_score(y_test, y_pred_class))\n",
    "# Make the Confusion Matrix\n",
    "from sklearn.metrics import confusion_matrix\n",
    "cm = confusion_matrix(y_test, y_pred_class)\n",
    "class_label = [\"Not relevant\", \"Relevant\"]\n",
    "df_cm = pd.DataFrame(cm, index=class_label,columns=class_label)\n",
    "sns.heatmap(df_cm, annot=True, fmt='d', cmap='Blues')\n",
    "plt.title(\"Confusion Matrix\")\n",
    "plt.xlabel(\"Predicted Label\")\n",
    "plt.ylabel(\"True Label\")\n",
    "plt.show()"
   ]
  },
  {
   "cell_type": "code",
   "execution_count": 1,
   "id": "cf2177eb",
   "metadata": {},
   "outputs": [],
   "source": [
    "#Accuracy:  0.7779862414008756  COUNT-VECT\n",
    "#Accuracy:  0.8298936835522202 TFIDF\n",
    "#Accuracy:  0.8298936835522202 W2V"
   ]
  },
  {
   "cell_type": "code",
   "execution_count": null,
   "id": "b0aaaeda",
   "metadata": {},
   "outputs": [],
   "source": []
  }
 ],
 "metadata": {
  "kernelspec": {
   "display_name": "Python 3 (ipykernel)",
   "language": "python",
   "name": "python3"
  },
  "language_info": {
   "codemirror_mode": {
    "name": "ipython",
    "version": 3
   },
   "file_extension": ".py",
   "mimetype": "text/x-python",
   "name": "python",
   "nbconvert_exporter": "python",
   "pygments_lexer": "ipython3",
   "version": "3.8.12"
  }
 },
 "nbformat": 4,
 "nbformat_minor": 5
}
