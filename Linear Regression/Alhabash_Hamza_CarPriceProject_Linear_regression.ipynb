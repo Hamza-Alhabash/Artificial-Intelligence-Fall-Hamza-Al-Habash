{
 "cells": [
  {
   "cell_type": "markdown",
   "id": "afa21e4f",
   "metadata": {},
   "source": [
    "# Load libraries"
   ]
  },
  {
   "cell_type": "code",
   "execution_count": 2,
   "id": "01e38ffb",
   "metadata": {},
   "outputs": [
    {
     "name": "stdout",
     "output_type": "stream",
     "text": [
      "Finished loading libs\n"
     ]
    }
   ],
   "source": [
    "import pandas as pd\n",
    "import seaborn as sns\n",
    "from sklearn import datasets, linear_model\n",
    "import matplotlib.pyplot as plt\n",
    "import numpy as np\n",
    "import sklearn\n",
    "from sklearn.linear_model import LinearRegression\n",
    "from IPython import display\n",
    "#path to figures\n",
    "figPath='./code_figures/'\n",
    "print('Finished loading libs')"
   ]
  },
  {
   "cell_type": "markdown",
   "id": "6151603b",
   "metadata": {},
   "source": [
    "## Reading data"
   ]
  },
  {
   "cell_type": "code",
   "execution_count": 4,
   "id": "fe0d55e3",
   "metadata": {
    "scrolled": false
   },
   "outputs": [
    {
     "name": "stdout",
     "output_type": "stream",
     "text": [
      "\n",
      "Data shape:\n",
      "(205, 26)\n",
      "\n",
      "Data columns:\n",
      "Index(['car_ID', 'symboling', 'CarName', 'fueltype', 'aspiration',\n",
      "       'doornumber', 'carbody', 'drivewheel', 'enginelocation', 'wheelbase',\n",
      "       'carlength', 'carwidth', 'carheight', 'curbweight', 'enginetype',\n",
      "       'cylindernumber', 'enginesize', 'fuelsystem', 'boreratio', 'stroke',\n",
      "       'compressionratio', 'horsepower', 'peakrpm', 'citympg', 'highwaympg',\n",
      "       'price'],\n",
      "      dtype='object')\n",
      "\n",
      "Data head:\n",
      "   car_ID  symboling                   CarName fueltype aspiration doornumber  \\\n",
      "0       1          3        alfa-romero giulia      gas        std        two   \n",
      "1       2          3       alfa-romero stelvio      gas        std        two   \n",
      "2       3          1  alfa-romero Quadrifoglio      gas        std        two   \n",
      "3       4          2               audi 100 ls      gas        std       four   \n",
      "4       5          2                audi 100ls      gas        std       four   \n",
      "\n",
      "       carbody drivewheel enginelocation  wheelbase  ...  enginesize  \\\n",
      "0  convertible        rwd          front       88.6  ...         130   \n",
      "1  convertible        rwd          front       88.6  ...         130   \n",
      "2    hatchback        rwd          front       94.5  ...         152   \n",
      "3        sedan        fwd          front       99.8  ...         109   \n",
      "4        sedan        4wd          front       99.4  ...         136   \n",
      "\n",
      "   fuelsystem  boreratio  stroke compressionratio horsepower  peakrpm citympg  \\\n",
      "0        mpfi       3.47    2.68              9.0        111     5000      21   \n",
      "1        mpfi       3.47    2.68              9.0        111     5000      21   \n",
      "2        mpfi       2.68    3.47              9.0        154     5000      19   \n",
      "3        mpfi       3.19    3.40             10.0        102     5500      24   \n",
      "4        mpfi       3.19    3.40              8.0        115     5500      18   \n",
      "\n",
      "   highwaympg    price  \n",
      "0          27  13495.0  \n",
      "1          27  16500.0  \n",
      "2          26  16500.0  \n",
      "3          30  13950.0  \n",
      "4          22  17450.0  \n",
      "\n",
      "[5 rows x 26 columns]\n"
     ]
    }
   ],
   "source": [
    "fileName='CarPrice_Assignment.csv'\n",
    "inputDf=pd.read_csv(fileName, sep=',')\n",
    "\n",
    "#data dimension\n",
    "print('\\nData shape:')\n",
    "print(inputDf.shape)\n",
    "\n",
    "#data columns\n",
    "print('\\nData columns:')\n",
    "print(inputDf.columns)\n",
    "\n",
    "#data head\n",
    "print('\\nData head:')\n",
    "print(inputDf.head())"
   ]
  },
  {
   "cell_type": "code",
   "execution_count": 3,
   "id": "4b3bbb6a",
   "metadata": {},
   "outputs": [
    {
     "name": "stdout",
     "output_type": "stream",
     "text": [
      "<class 'pandas.core.frame.DataFrame'>\n",
      "RangeIndex: 205 entries, 0 to 204\n",
      "Data columns (total 26 columns):\n",
      " #   Column            Non-Null Count  Dtype  \n",
      "---  ------            --------------  -----  \n",
      " 0   car_ID            205 non-null    int64  \n",
      " 1   symboling         205 non-null    int64  \n",
      " 2   CarName           205 non-null    object \n",
      " 3   fueltype          205 non-null    object \n",
      " 4   aspiration        205 non-null    object \n",
      " 5   doornumber        205 non-null    object \n",
      " 6   carbody           205 non-null    object \n",
      " 7   drivewheel        205 non-null    object \n",
      " 8   enginelocation    205 non-null    object \n",
      " 9   wheelbase         205 non-null    float64\n",
      " 10  carlength         205 non-null    float64\n",
      " 11  carwidth          205 non-null    float64\n",
      " 12  carheight         205 non-null    float64\n",
      " 13  curbweight        205 non-null    int64  \n",
      " 14  enginetype        205 non-null    object \n",
      " 15  cylindernumber    205 non-null    object \n",
      " 16  enginesize        205 non-null    int64  \n",
      " 17  fuelsystem        205 non-null    object \n",
      " 18  boreratio         205 non-null    float64\n",
      " 19  stroke            205 non-null    float64\n",
      " 20  compressionratio  205 non-null    float64\n",
      " 21  horsepower        205 non-null    int64  \n",
      " 22  peakrpm           205 non-null    int64  \n",
      " 23  citympg           205 non-null    int64  \n",
      " 24  highwaympg        205 non-null    int64  \n",
      " 25  price             205 non-null    float64\n",
      "dtypes: float64(8), int64(8), object(10)\n",
      "memory usage: 41.8+ KB\n"
     ]
    }
   ],
   "source": [
    "#data types\n",
    "inputDf.info()"
   ]
  },
  {
   "cell_type": "markdown",
   "id": "8dd8c7c0",
   "metadata": {},
   "source": [
    "# Data summary statistics"
   ]
  },
  {
   "cell_type": "code",
   "execution_count": 4,
   "id": "ea180cde",
   "metadata": {},
   "outputs": [
    {
     "data": {
      "text/html": [
       "<div>\n",
       "<style scoped>\n",
       "    .dataframe tbody tr th:only-of-type {\n",
       "        vertical-align: middle;\n",
       "    }\n",
       "\n",
       "    .dataframe tbody tr th {\n",
       "        vertical-align: top;\n",
       "    }\n",
       "\n",
       "    .dataframe thead th {\n",
       "        text-align: right;\n",
       "    }\n",
       "</style>\n",
       "<table border=\"1\" class=\"dataframe\">\n",
       "  <thead>\n",
       "    <tr style=\"text-align: right;\">\n",
       "      <th></th>\n",
       "      <th>car_ID</th>\n",
       "      <th>symboling</th>\n",
       "      <th>wheelbase</th>\n",
       "      <th>carlength</th>\n",
       "      <th>carwidth</th>\n",
       "      <th>carheight</th>\n",
       "      <th>curbweight</th>\n",
       "      <th>enginesize</th>\n",
       "      <th>boreratio</th>\n",
       "      <th>stroke</th>\n",
       "      <th>compressionratio</th>\n",
       "      <th>horsepower</th>\n",
       "      <th>peakrpm</th>\n",
       "      <th>citympg</th>\n",
       "      <th>highwaympg</th>\n",
       "      <th>price</th>\n",
       "    </tr>\n",
       "  </thead>\n",
       "  <tbody>\n",
       "    <tr>\n",
       "      <th>count</th>\n",
       "      <td>205.000000</td>\n",
       "      <td>205.000000</td>\n",
       "      <td>205.000000</td>\n",
       "      <td>205.000000</td>\n",
       "      <td>205.000000</td>\n",
       "      <td>205.000000</td>\n",
       "      <td>205.000000</td>\n",
       "      <td>205.000000</td>\n",
       "      <td>205.000000</td>\n",
       "      <td>205.000000</td>\n",
       "      <td>205.000000</td>\n",
       "      <td>205.000000</td>\n",
       "      <td>205.000000</td>\n",
       "      <td>205.000000</td>\n",
       "      <td>205.000000</td>\n",
       "      <td>205.000000</td>\n",
       "    </tr>\n",
       "    <tr>\n",
       "      <th>mean</th>\n",
       "      <td>103.000000</td>\n",
       "      <td>0.834146</td>\n",
       "      <td>98.756585</td>\n",
       "      <td>174.049268</td>\n",
       "      <td>65.907805</td>\n",
       "      <td>53.724878</td>\n",
       "      <td>2555.565854</td>\n",
       "      <td>126.907317</td>\n",
       "      <td>3.329756</td>\n",
       "      <td>3.255415</td>\n",
       "      <td>10.142537</td>\n",
       "      <td>104.117073</td>\n",
       "      <td>5125.121951</td>\n",
       "      <td>25.219512</td>\n",
       "      <td>30.751220</td>\n",
       "      <td>13276.710571</td>\n",
       "    </tr>\n",
       "    <tr>\n",
       "      <th>std</th>\n",
       "      <td>59.322565</td>\n",
       "      <td>1.245307</td>\n",
       "      <td>6.021776</td>\n",
       "      <td>12.337289</td>\n",
       "      <td>2.145204</td>\n",
       "      <td>2.443522</td>\n",
       "      <td>520.680204</td>\n",
       "      <td>41.642693</td>\n",
       "      <td>0.270844</td>\n",
       "      <td>0.313597</td>\n",
       "      <td>3.972040</td>\n",
       "      <td>39.544167</td>\n",
       "      <td>476.985643</td>\n",
       "      <td>6.542142</td>\n",
       "      <td>6.886443</td>\n",
       "      <td>7988.852332</td>\n",
       "    </tr>\n",
       "    <tr>\n",
       "      <th>min</th>\n",
       "      <td>1.000000</td>\n",
       "      <td>-2.000000</td>\n",
       "      <td>86.600000</td>\n",
       "      <td>141.100000</td>\n",
       "      <td>60.300000</td>\n",
       "      <td>47.800000</td>\n",
       "      <td>1488.000000</td>\n",
       "      <td>61.000000</td>\n",
       "      <td>2.540000</td>\n",
       "      <td>2.070000</td>\n",
       "      <td>7.000000</td>\n",
       "      <td>48.000000</td>\n",
       "      <td>4150.000000</td>\n",
       "      <td>13.000000</td>\n",
       "      <td>16.000000</td>\n",
       "      <td>5118.000000</td>\n",
       "    </tr>\n",
       "    <tr>\n",
       "      <th>25%</th>\n",
       "      <td>52.000000</td>\n",
       "      <td>0.000000</td>\n",
       "      <td>94.500000</td>\n",
       "      <td>166.300000</td>\n",
       "      <td>64.100000</td>\n",
       "      <td>52.000000</td>\n",
       "      <td>2145.000000</td>\n",
       "      <td>97.000000</td>\n",
       "      <td>3.150000</td>\n",
       "      <td>3.110000</td>\n",
       "      <td>8.600000</td>\n",
       "      <td>70.000000</td>\n",
       "      <td>4800.000000</td>\n",
       "      <td>19.000000</td>\n",
       "      <td>25.000000</td>\n",
       "      <td>7788.000000</td>\n",
       "    </tr>\n",
       "    <tr>\n",
       "      <th>50%</th>\n",
       "      <td>103.000000</td>\n",
       "      <td>1.000000</td>\n",
       "      <td>97.000000</td>\n",
       "      <td>173.200000</td>\n",
       "      <td>65.500000</td>\n",
       "      <td>54.100000</td>\n",
       "      <td>2414.000000</td>\n",
       "      <td>120.000000</td>\n",
       "      <td>3.310000</td>\n",
       "      <td>3.290000</td>\n",
       "      <td>9.000000</td>\n",
       "      <td>95.000000</td>\n",
       "      <td>5200.000000</td>\n",
       "      <td>24.000000</td>\n",
       "      <td>30.000000</td>\n",
       "      <td>10295.000000</td>\n",
       "    </tr>\n",
       "    <tr>\n",
       "      <th>75%</th>\n",
       "      <td>154.000000</td>\n",
       "      <td>2.000000</td>\n",
       "      <td>102.400000</td>\n",
       "      <td>183.100000</td>\n",
       "      <td>66.900000</td>\n",
       "      <td>55.500000</td>\n",
       "      <td>2935.000000</td>\n",
       "      <td>141.000000</td>\n",
       "      <td>3.580000</td>\n",
       "      <td>3.410000</td>\n",
       "      <td>9.400000</td>\n",
       "      <td>116.000000</td>\n",
       "      <td>5500.000000</td>\n",
       "      <td>30.000000</td>\n",
       "      <td>34.000000</td>\n",
       "      <td>16503.000000</td>\n",
       "    </tr>\n",
       "    <tr>\n",
       "      <th>max</th>\n",
       "      <td>205.000000</td>\n",
       "      <td>3.000000</td>\n",
       "      <td>120.900000</td>\n",
       "      <td>208.100000</td>\n",
       "      <td>72.300000</td>\n",
       "      <td>59.800000</td>\n",
       "      <td>4066.000000</td>\n",
       "      <td>326.000000</td>\n",
       "      <td>3.940000</td>\n",
       "      <td>4.170000</td>\n",
       "      <td>23.000000</td>\n",
       "      <td>288.000000</td>\n",
       "      <td>6600.000000</td>\n",
       "      <td>49.000000</td>\n",
       "      <td>54.000000</td>\n",
       "      <td>45400.000000</td>\n",
       "    </tr>\n",
       "  </tbody>\n",
       "</table>\n",
       "</div>"
      ],
      "text/plain": [
       "           car_ID   symboling   wheelbase   carlength    carwidth   carheight  \\\n",
       "count  205.000000  205.000000  205.000000  205.000000  205.000000  205.000000   \n",
       "mean   103.000000    0.834146   98.756585  174.049268   65.907805   53.724878   \n",
       "std     59.322565    1.245307    6.021776   12.337289    2.145204    2.443522   \n",
       "min      1.000000   -2.000000   86.600000  141.100000   60.300000   47.800000   \n",
       "25%     52.000000    0.000000   94.500000  166.300000   64.100000   52.000000   \n",
       "50%    103.000000    1.000000   97.000000  173.200000   65.500000   54.100000   \n",
       "75%    154.000000    2.000000  102.400000  183.100000   66.900000   55.500000   \n",
       "max    205.000000    3.000000  120.900000  208.100000   72.300000   59.800000   \n",
       "\n",
       "        curbweight  enginesize   boreratio      stroke  compressionratio  \\\n",
       "count   205.000000  205.000000  205.000000  205.000000        205.000000   \n",
       "mean   2555.565854  126.907317    3.329756    3.255415         10.142537   \n",
       "std     520.680204   41.642693    0.270844    0.313597          3.972040   \n",
       "min    1488.000000   61.000000    2.540000    2.070000          7.000000   \n",
       "25%    2145.000000   97.000000    3.150000    3.110000          8.600000   \n",
       "50%    2414.000000  120.000000    3.310000    3.290000          9.000000   \n",
       "75%    2935.000000  141.000000    3.580000    3.410000          9.400000   \n",
       "max    4066.000000  326.000000    3.940000    4.170000         23.000000   \n",
       "\n",
       "       horsepower      peakrpm     citympg  highwaympg         price  \n",
       "count  205.000000   205.000000  205.000000  205.000000    205.000000  \n",
       "mean   104.117073  5125.121951   25.219512   30.751220  13276.710571  \n",
       "std     39.544167   476.985643    6.542142    6.886443   7988.852332  \n",
       "min     48.000000  4150.000000   13.000000   16.000000   5118.000000  \n",
       "25%     70.000000  4800.000000   19.000000   25.000000   7788.000000  \n",
       "50%     95.000000  5200.000000   24.000000   30.000000  10295.000000  \n",
       "75%    116.000000  5500.000000   30.000000   34.000000  16503.000000  \n",
       "max    288.000000  6600.000000   49.000000   54.000000  45400.000000  "
      ]
     },
     "execution_count": 4,
     "metadata": {},
     "output_type": "execute_result"
    }
   ],
   "source": [
    "#get data summary stats\n",
    "inputDf.describe()"
   ]
  },
  {
   "cell_type": "code",
   "execution_count": 5,
   "id": "d58bcf4b",
   "metadata": {},
   "outputs": [
    {
     "data": {
      "text/plain": [
       "car_ID              0\n",
       "symboling           0\n",
       "CarName             0\n",
       "fueltype            0\n",
       "aspiration          0\n",
       "doornumber          0\n",
       "carbody             0\n",
       "drivewheel          0\n",
       "enginelocation      0\n",
       "wheelbase           0\n",
       "carlength           0\n",
       "carwidth            0\n",
       "carheight           0\n",
       "curbweight          0\n",
       "enginetype          0\n",
       "cylindernumber      0\n",
       "enginesize          0\n",
       "fuelsystem          0\n",
       "boreratio           0\n",
       "stroke              0\n",
       "compressionratio    0\n",
       "horsepower          0\n",
       "peakrpm             0\n",
       "citympg             0\n",
       "highwaympg          0\n",
       "price               0\n",
       "dtype: int64"
      ]
     },
     "execution_count": 5,
     "metadata": {},
     "output_type": "execute_result"
    }
   ],
   "source": [
    "#checking for any mssing values, NA, weird symbols\n",
    "inputDf.isnull().sum()"
   ]
  },
  {
   "cell_type": "markdown",
   "id": "081c576f",
   "metadata": {},
   "source": [
    "# 1st Regression analysis"
   ]
  },
  {
   "cell_type": "code",
   "execution_count": 14,
   "id": "231d87c2",
   "metadata": {},
   "outputs": [
    {
     "data": {
      "image/png": "[encoded data removed]",
      "text/plain": [
       "<Figure size 432x288 with 1 Axes>"
      ]
     },
     "metadata": {
      "needs_background": "light"
     },
     "output_type": "display_data"
    }
   ],
   "source": [
    "plt.scatter(inputDf.horsepower, inputDf.price)\n",
    "plt.xlabel(\"Horsepower\")\n",
    "plt.ylabel(\"Cars Prices\")\n",
    "plt.title(\"Relationship between Horsepower and Cars Prices\")\n",
    "plt.show()"
   ]
  },
  {
   "cell_type": "markdown",
   "id": "5f1f96b5",
   "metadata": {},
   "source": [
    "## Subset dataset"
   ]
  },
  {
   "cell_type": "code",
   "execution_count": 15,
   "id": "7b478851",
   "metadata": {},
   "outputs": [
    {
     "name": "stdout",
     "output_type": "stream",
     "text": [
      "Num of observations selected: 6 \n",
      "\n",
      "\n",
      "X is\n",
      ": 0    111\n",
      "1    111\n",
      "2    154\n",
      "3    102\n",
      "4    115\n",
      "5    110\n",
      "Name: horsepower, dtype: int64\n",
      "\n",
      "Y is\n",
      ": 0    13495.0\n",
      "1    16500.0\n",
      "2    16500.0\n",
      "3    13950.0\n",
      "4    17450.0\n",
      "5    15250.0\n",
      "Name: price, dtype: float64\n"
     ]
    }
   ],
   "source": [
    "numObs=6# Obs is observations/instances\n",
    "print('Num of observations selected:', numObs, '\\n\\n')\n",
    "#let X be the horsepower\n",
    "X=inputDf.horsepower[0:numObs]\n",
    "#let Y be the car price\n",
    "Y=inputDf.price[0:numObs]\n",
    "print('X is\\n:', X)\n",
    "print('\\nY is\\n:', Y)"
   ]
  },
  {
   "cell_type": "code",
   "execution_count": 16,
   "id": "63bd8fb5",
   "metadata": {},
   "outputs": [
    {
     "data": {
      "image/png": "[encoded data removed]",
      "text/plain": [
       "<Figure size 432x288 with 1 Axes>"
      ]
     },
     "metadata": {
      "needs_background": "light"
     },
     "output_type": "display_data"
    }
   ],
   "source": [
    "#plot the subset data set\n",
    "plt.scatter(X, Y)\n",
    "plt.xlabel(\"Horsepower\")\n",
    "plt.ylabel(\"Car Price\")\n",
    "plt.title(\"Relationship between Horsepower and Cars Prices\")\n",
    "plt.show()"
   ]
  },
  {
   "cell_type": "markdown",
   "id": "ed42b58a",
   "metadata": {},
   "source": [
    "-I'm trying to find a line which fits the data.\n",
    "\n",
    "Modeling the data mathematically:\n",
    "I'll model Cars Prices as a linear function of Horsepower. This step is called model selection: you selected a linear model of Cars Prices with just one attribute which is the Horsepower.\n",
    "\n",
    "cars_prices= m * horsepower + b\n",
    "\n",
    "<b>We find the line which fits the data best, by changing the m & b variables (coefficients)</b>"
   ]
  },
  {
   "cell_type": "code",
   "execution_count": 18,
   "id": "737a0609",
   "metadata": {},
   "outputs": [
    {
     "data": {
      "image/png": "[encoded data removed]",
      "text/plain": [
       "<Figure size 432x288 with 1 Axes>"
      ]
     },
     "metadata": {
      "needs_background": "light"
     },
     "output_type": "display_data"
    }
   ],
   "source": [
    "#Let us try different values of m and let us fix b\n",
    "#set b to -100\n",
    "b=-100\n",
    "\n",
    "#the X and Y points\n",
    "plt.scatter(X, Y)\n",
    "\n",
    "#Line 1; red line\n",
    "m=121.576\n",
    "plt.plot(X, b + m * X, color='r')\n",
    "\n",
    "#Line 2; yellow line\n",
    "m=148.64\n",
    "plt.plot(X, b + m * X, color='y')\n",
    "\n",
    "#Line 3; black line\n",
    "m=107.142\n",
    "\n",
    "plt.plot(X, b + m * X, color='k')\n",
    "\n",
    "#add x and y labels and show plot\n",
    "plt.xlabel(\"Horsepower\")\n",
    "plt.ylabel(\"Cars Prices\")\n",
    "plt.show()"
   ]
  },
  {
   "cell_type": "markdown",
   "id": "3e62a954",
   "metadata": {},
   "source": [
    "# Linear regression using scikit-learn"
   ]
  },
  {
   "cell_type": "code",
   "execution_count": 19,
   "id": "d039b231",
   "metadata": {},
   "outputs": [
    {
     "name": "stdout",
     "output_type": "stream",
     "text": [
      "Num of points: 6\n"
     ]
    }
   ],
   "source": [
    "#global\n",
    "numPoints=6\n",
    "print('Num of points:', numPoints)"
   ]
  },
  {
   "cell_type": "code",
   "execution_count": 20,
   "id": "10a745a5",
   "metadata": {},
   "outputs": [
    {
     "data": {
      "text/plain": [
       "LinearRegression()"
      ]
     },
     "execution_count": 20,
     "metadata": {},
     "output_type": "execute_result"
    }
   ],
   "source": [
    "#select the model\n",
    "from sklearn.linear_model import LinearRegression\n",
    "lm = LinearRegression()\n",
    "lm"
   ]
  },
  {
   "cell_type": "code",
   "execution_count": 21,
   "id": "2c7f0b20",
   "metadata": {},
   "outputs": [
    {
     "name": "stdout",
     "output_type": "stream",
     "text": [
      "<class 'pandas.core.series.Series'>\n",
      "<class 'numpy.ndarray'>\n",
      "[[111]\n",
      " [111]\n",
      " [154]\n",
      " [102]\n",
      " [115]\n",
      " [110]]\n"
     ]
    }
   ],
   "source": [
    "#set and select the training data\n",
    "#set the X\n",
    "type( inputDf.horsepower )\n",
    "X=inputDf.horsepower\n",
    "print( type(X) )\n",
    "X=X.values.reshape(-1, 1)\n",
    "print( type(X) )\n",
    "print( X[:numPoints] )\n",
    "#print(X)"
   ]
  },
  {
   "cell_type": "code",
   "execution_count": 22,
   "id": "3c694699",
   "metadata": {},
   "outputs": [
    {
     "data": {
      "text/plain": [
       "pandas.core.series.Series"
      ]
     },
     "execution_count": 22,
     "metadata": {},
     "output_type": "execute_result"
    }
   ],
   "source": [
    "#set the Y\n",
    "Y=inputDf.price\n",
    "type(Y)"
   ]
  },
  {
   "cell_type": "code",
   "execution_count": 23,
   "id": "f0dc163e",
   "metadata": {},
   "outputs": [
    {
     "data": {
      "text/plain": [
       "LinearRegression()"
      ]
     },
     "execution_count": 23,
     "metadata": {},
     "output_type": "execute_result"
    }
   ],
   "source": [
    "#call the function\n",
    "lm.fit(X, Y)"
   ]
  },
  {
   "cell_type": "code",
   "execution_count": 24,
   "id": "14ae3afc",
   "metadata": {},
   "outputs": [
    {
     "data": {
      "text/plain": [
       "array([163.26306097])"
      ]
     },
     "execution_count": 24,
     "metadata": {},
     "output_type": "execute_result"
    }
   ],
   "source": [
    "#check output\n",
    "lm.coef_"
   ]
  },
  {
   "cell_type": "code",
   "execution_count": 25,
   "id": "4231c831",
   "metadata": {},
   "outputs": [
    {
     "data": {
      "text/plain": [
       "-3721.76149432276"
      ]
     },
     "execution_count": 25,
     "metadata": {},
     "output_type": "execute_result"
    }
   ],
   "source": [
    "lm.intercept_"
   ]
  },
  {
   "cell_type": "markdown",
   "id": "dbb3a910",
   "metadata": {},
   "source": [
    "y=m*x+b <br>\n",
    "cars_prices= 163.26 * horsepower - 3721.761 <br>"
   ]
  },
  {
   "cell_type": "code",
   "execution_count": 26,
   "id": "c8d0706e",
   "metadata": {},
   "outputs": [
    {
     "data": {
      "text/plain": [
       "array([14400.43827331, 14400.43827331, 21420.749895  , 12931.07072458,\n",
       "       15053.49051719, 14237.17521234])"
      ]
     },
     "execution_count": 26,
     "metadata": {},
     "output_type": "execute_result"
    }
   ],
   "source": [
    "#what are the predcited values for the first 6 points\n",
    "lm.predict(X)[0:numPoints]"
   ]
  },
  {
   "cell_type": "code",
   "execution_count": 27,
   "id": "87ab3258",
   "metadata": {},
   "outputs": [
    {
     "data": {
      "text/plain": [
       "0    13495.0\n",
       "1    16500.0\n",
       "2    16500.0\n",
       "3    13950.0\n",
       "4    17450.0\n",
       "5    15250.0\n",
       "Name: price, dtype: float64"
      ]
     },
     "execution_count": 27,
     "metadata": {},
     "output_type": "execute_result"
    }
   ],
   "source": [
    "#what are the actual prices\n",
    "Y[0:numPoints]"
   ]
  },
  {
   "cell_type": "code",
   "execution_count": 28,
   "id": "6ca9ee16",
   "metadata": {},
   "outputs": [
    {
     "data": {
      "text/html": [
       "<div>\n",
       "<style scoped>\n",
       "    .dataframe tbody tr th:only-of-type {\n",
       "        vertical-align: middle;\n",
       "    }\n",
       "\n",
       "    .dataframe tbody tr th {\n",
       "        vertical-align: top;\n",
       "    }\n",
       "\n",
       "    .dataframe thead th {\n",
       "        text-align: right;\n",
       "    }\n",
       "</style>\n",
       "<table border=\"1\" class=\"dataframe\">\n",
       "  <thead>\n",
       "    <tr style=\"text-align: right;\">\n",
       "      <th></th>\n",
       "      <th>Actual</th>\n",
       "      <th>Predicted</th>\n",
       "    </tr>\n",
       "  </thead>\n",
       "  <tbody>\n",
       "    <tr>\n",
       "      <th>0</th>\n",
       "      <td>13495.0</td>\n",
       "      <td>14400.438273</td>\n",
       "    </tr>\n",
       "    <tr>\n",
       "      <th>1</th>\n",
       "      <td>16500.0</td>\n",
       "      <td>14400.438273</td>\n",
       "    </tr>\n",
       "    <tr>\n",
       "      <th>2</th>\n",
       "      <td>16500.0</td>\n",
       "      <td>21420.749895</td>\n",
       "    </tr>\n",
       "    <tr>\n",
       "      <th>3</th>\n",
       "      <td>13950.0</td>\n",
       "      <td>12931.070725</td>\n",
       "    </tr>\n",
       "    <tr>\n",
       "      <th>4</th>\n",
       "      <td>17450.0</td>\n",
       "      <td>15053.490517</td>\n",
       "    </tr>\n",
       "    <tr>\n",
       "      <th>5</th>\n",
       "      <td>15250.0</td>\n",
       "      <td>14237.175212</td>\n",
       "    </tr>\n",
       "  </tbody>\n",
       "</table>\n",
       "</div>"
      ],
      "text/plain": [
       "    Actual     Predicted\n",
       "0  13495.0  14400.438273\n",
       "1  16500.0  14400.438273\n",
       "2  16500.0  21420.749895\n",
       "3  13950.0  12931.070725\n",
       "4  17450.0  15053.490517\n",
       "5  15250.0  14237.175212"
      ]
     },
     "execution_count": 28,
     "metadata": {},
     "output_type": "execute_result"
    }
   ],
   "source": [
    "df = pd.DataFrame({'Actual': Y[0:numPoints], 'Predicted': lm.predict(X)[0:numPoints]})\n",
    "df"
   ]
  },
  {
   "cell_type": "code",
   "execution_count": 29,
   "id": "d644cd3d",
   "metadata": {},
   "outputs": [
    {
     "name": "stdout",
     "output_type": "stream",
     "text": [
      "carIds: [1, 2, 3, 4, 5, 6]\n"
     ]
    },
    {
     "data": {
      "image/png": "[encoded data removed]",
      "text/plain": [
       "<Figure size 432x288 with 1 Axes>"
      ]
     },
     "metadata": {
      "needs_background": "light"
     },
     "output_type": "display_data"
    }
   ],
   "source": [
    "carIds=list( range(1,numPoints+1) )\n",
    "print('carIds:', carIds)\n",
    "#plot the actual price in blue\n",
    "plt.scatter(carIds,inputDf.price[0:numPoints],color='blue')\n",
    "#plot the predicted price in red\n",
    "plt.scatter(carIds,lm.predict(X)[0:numPoints],color= 'red')\n",
    "plt.xlabel(\"Cars\")\n",
    "plt.ylabel(\"Price\")\n",
    "plt.title(\"Actual Cars prices vs predicted prices:Blue is Y and red is $\\\\hat{Y}$\")\n",
    "plt.show()"
   ]
  },
  {
   "cell_type": "code",
   "execution_count": 30,
   "id": "c5cd7f82",
   "metadata": {},
   "outputs": [
    {
     "data": {
      "image/png": "[encoded data removed]",
      "text/plain": [
       "<Figure size 432x288 with 1 Axes>"
      ]
     },
     "metadata": {
      "needs_background": "light"
     },
     "output_type": "display_data"
    }
   ],
   "source": [
    "carIds=list( range(1,numPoints+1) )\n",
    "\n",
    "fig, axs = plt.subplots(ncols=1, nrows=1)\n",
    "for i in range(len(carIds)):\n",
    "    axs.plot([i+1,i+1],[lm.predict(X)[i], inputDf.price[i]], c=\"k\", linewidth=0.6)\n",
    "\n",
    "plt.scatter(carIds,inputDf.price[0:numPoints],color='blue')\n",
    "plt.scatter(carIds,lm.predict(X)[0:numPoints],color= 'red')\n",
    "plt.xlabel(\"Cars\")\n",
    "plt.ylabel(\"Price\")\n",
    "plt.title(\"Actual Cars prices vs predicted prices:Blue is Y and red is $\\\\hat{Y}$\")\n",
    "plt.show()"
   ]
  },
  {
   "cell_type": "markdown",
   "id": "712b556c",
   "metadata": {},
   "source": [
    "# Training and testing"
   ]
  },
  {
   "cell_type": "code",
   "execution_count": 31,
   "id": "9bc3ede0",
   "metadata": {},
   "outputs": [
    {
     "name": "stdout",
     "output_type": "stream",
     "text": [
      "(155, 1)\n",
      "(155,)\n",
      "(50, 1)\n",
      "(50,)\n"
     ]
    }
   ],
   "source": [
    "#pick the training and testing data manually to see how well the model perf\n",
    "#pick the training data\n",
    "X_train = X[:-50]\n",
    "Y_train = inputDf.price[:-50]\n",
    "\n",
    "#pick the testing data\n",
    "X_test = X[-50:]\n",
    "Y_test = inputDf.price[-50:]\n",
    "print (X_train.shape)\n",
    "print (Y_train.shape)\n",
    "\n",
    "print (X_test.shape)\n",
    "print (Y_test.shape)"
   ]
  },
  {
   "cell_type": "code",
   "execution_count": 32,
   "id": "0ca8d088",
   "metadata": {},
   "outputs": [
    {
     "name": "stdout",
     "output_type": "stream",
     "text": [
      "Finsihed fitting model\n"
     ]
    }
   ],
   "source": [
    "#call linear regression\n",
    "lm = LinearRegression()\n",
    "lm.fit(X_train, Y_train)\n",
    "print('Finsihed fitting model')"
   ]
  },
  {
   "cell_type": "code",
   "execution_count": 33,
   "id": "b9171cf7",
   "metadata": {},
   "outputs": [
    {
     "name": "stdout",
     "output_type": "stream",
     "text": [
      "Finsihed testing\n"
     ]
    }
   ],
   "source": [
    "#test\n",
    "pred_price_test = lm.predict(X_test)\n",
    "print('Finsihed testing')"
   ]
  },
  {
   "cell_type": "code",
   "execution_count": 34,
   "id": "ca8cb20d",
   "metadata": {},
   "outputs": [
    {
     "data": {
      "text/html": [
       "<div>\n",
       "<style scoped>\n",
       "    .dataframe tbody tr th:only-of-type {\n",
       "        vertical-align: middle;\n",
       "    }\n",
       "\n",
       "    .dataframe tbody tr th {\n",
       "        vertical-align: top;\n",
       "    }\n",
       "\n",
       "    .dataframe thead th {\n",
       "        text-align: right;\n",
       "    }\n",
       "</style>\n",
       "<table border=\"1\" class=\"dataframe\">\n",
       "  <thead>\n",
       "    <tr style=\"text-align: right;\">\n",
       "      <th></th>\n",
       "      <th>Actual</th>\n",
       "      <th>Predicted</th>\n",
       "    </tr>\n",
       "  </thead>\n",
       "  <tbody>\n",
       "    <tr>\n",
       "      <th>155</th>\n",
       "      <td>8778.0</td>\n",
       "      <td>6124.964318</td>\n",
       "    </tr>\n",
       "    <tr>\n",
       "      <th>156</th>\n",
       "      <td>6938.0</td>\n",
       "      <td>7522.484722</td>\n",
       "    </tr>\n",
       "    <tr>\n",
       "      <th>157</th>\n",
       "      <td>7198.0</td>\n",
       "      <td>7522.484722</td>\n",
       "    </tr>\n",
       "    <tr>\n",
       "      <th>158</th>\n",
       "      <td>7898.0</td>\n",
       "      <td>5076.824016</td>\n",
       "    </tr>\n",
       "    <tr>\n",
       "      <th>159</th>\n",
       "      <td>7788.0</td>\n",
       "      <td>5076.824016</td>\n",
       "    </tr>\n",
       "  </tbody>\n",
       "</table>\n",
       "</div>"
      ],
      "text/plain": [
       "     Actual    Predicted\n",
       "155  8778.0  6124.964318\n",
       "156  6938.0  7522.484722\n",
       "157  7198.0  7522.484722\n",
       "158  7898.0  5076.824016\n",
       "159  7788.0  5076.824016"
      ]
     },
     "execution_count": 34,
     "metadata": {},
     "output_type": "execute_result"
    }
   ],
   "source": [
    "#see how well your model predicted cars prices using your test data\n",
    "df = pd.DataFrame({'Actual': Y_test, 'Predicted': pred_price_test})\n",
    "df.head()\n",
    "#df.shape"
   ]
  },
  {
   "cell_type": "code",
   "execution_count": 35,
   "id": "77628cdf",
   "metadata": {},
   "outputs": [
    {
     "data": {
      "text/plain": [
       "0.16659843819339126"
      ]
     },
     "execution_count": 35,
     "metadata": {},
     "output_type": "execute_result"
    }
   ],
   "source": [
    "from sklearn.metrics import r2_score\n",
    "r2_score(Y_test, pred_price_test)"
   ]
  },
  {
   "cell_type": "code",
   "execution_count": 36,
   "id": "613cd889",
   "metadata": {},
   "outputs": [
    {
     "name": "stdout",
     "output_type": "stream",
     "text": [
      "Mean Absolute Error: 3154.129941215846\n",
      "Mean Squared Error: 15380493.158320194\n",
      "Root Mean Squared Error: 3921.797184750914\n"
     ]
    }
   ],
   "source": [
    "from sklearn import metrics\n",
    "print('Mean Absolute Error:', metrics.mean_absolute_error(Y_test, pred_price_test))\n",
    "print('Mean Squared Error:', metrics.mean_squared_error(Y_test, pred_price_test))\n",
    "print('Root Mean Squared Error:', np.sqrt(metrics.mean_squared_error(Y_test, pred_price_test)))"
   ]
  },
  {
   "cell_type": "code",
   "execution_count": 37,
   "id": "5389db4a",
   "metadata": {},
   "outputs": [
    {
     "data": {
      "image/png": "[encoded data removed]",
      "text/plain": [
       "<Figure size 432x288 with 1 Axes>"
      ]
     },
     "metadata": {
      "needs_background": "light"
     },
     "output_type": "display_data"
    }
   ],
   "source": [
    "plt.scatter(X_train, Y_train, color = 'blue')\n",
    "plt.plot(X_train, lm.predict(X_train), color = 'black')\n",
    "plt.title('Horsepower vs. Cars Prices')\n",
    "plt.xlabel('Horsepower')\n",
    "plt.ylabel('Cars Prices')\n",
    "plt.show()"
   ]
  },
  {
   "cell_type": "markdown",
   "id": "83ae618d",
   "metadata": {},
   "source": [
    "# 2nd Regression analysis"
   ]
  },
  {
   "cell_type": "code",
   "execution_count": 38,
   "id": "7e38388d",
   "metadata": {},
   "outputs": [
    {
     "data": {
      "image/png": "[encoded data removed]",
      "text/plain": [
       "<Figure size 432x288 with 1 Axes>"
      ]
     },
     "metadata": {
      "needs_background": "light"
     },
     "output_type": "display_data"
    }
   ],
   "source": [
    "plt.scatter(inputDf.citympg, inputDf.price)\n",
    "plt.xlabel(\"Citympg\")\n",
    "plt.ylabel(\"Cars Prices\")\n",
    "plt.title(\"Relationship between Citympg and Cars Prices\")\n",
    "plt.show()"
   ]
  },
  {
   "cell_type": "code",
   "execution_count": 39,
   "id": "7ac2dc2a",
   "metadata": {},
   "outputs": [
    {
     "name": "stdout",
     "output_type": "stream",
     "text": [
      "Num of observations selected: 6 \n",
      "\n",
      "\n",
      "X is\n",
      ": 0    21\n",
      "1    21\n",
      "2    19\n",
      "3    24\n",
      "4    18\n",
      "5    19\n",
      "Name: citympg, dtype: int64\n",
      "\n",
      "Y is\n",
      ": 0    13495.0\n",
      "1    16500.0\n",
      "2    16500.0\n",
      "3    13950.0\n",
      "4    17450.0\n",
      "5    15250.0\n",
      "Name: price, dtype: float64\n"
     ]
    }
   ],
   "source": [
    "numObs=6# Obs is observations/instances\n",
    "print('Num of observations selected:', numObs, '\\n\\n')\n",
    "#let X be the Citympg\n",
    "X=inputDf.citympg[0:numObs]\n",
    "#let Y be the car price\n",
    "Y=inputDf.price[0:numObs]\n",
    "print('X is\\n:', X)\n",
    "print('\\nY is\\n:', Y)"
   ]
  },
  {
   "cell_type": "code",
   "execution_count": 40,
   "id": "80a0e488",
   "metadata": {},
   "outputs": [
    {
     "data": {
      "image/png": "[encoded data removed]",
      "text/plain": [
       "<Figure size 432x288 with 1 Axes>"
      ]
     },
     "metadata": {
      "needs_background": "light"
     },
     "output_type": "display_data"
    }
   ],
   "source": [
    "#plot the subset data set\n",
    "plt.scatter(X, Y)\n",
    "plt.xlabel(\"Citympg\")\n",
    "plt.ylabel(\"Car Price\")\n",
    "plt.title(\"Relationship between Citympg and Cars Prices\")\n",
    "plt.show()"
   ]
  },
  {
   "cell_type": "markdown",
   "id": "50f01127",
   "metadata": {},
   "source": [
    "I'll model Cars Prices as a linear function of Citympg. This step is called model selection: you selected a linear model of Cars Prices with just one attribute which is the Citympg.\n",
    "\n",
    "cars_prices= m * citympg + b\n",
    "\n",
    "<b>We find the line which fits the data best, by changing the m & b variables (coefficients)</b>"
   ]
  },
  {
   "cell_type": "code",
   "execution_count": 41,
   "id": "eea6da6b",
   "metadata": {},
   "outputs": [
    {
     "data": {
      "image/png": "[encoded data removed]",
      "text/plain": [
       "<Figure size 432x288 with 1 Axes>"
      ]
     },
     "metadata": {
      "needs_background": "light"
     },
     "output_type": "display_data"
    }
   ],
   "source": [
    "#Let us try different values of m and let us fix b\n",
    "#set b to -100\n",
    "b=-100\n",
    "\n",
    "#the X and Y points\n",
    "plt.scatter(X, Y)\n",
    "\n",
    "#Line 1; red line\n",
    "m=642.619\n",
    "plt.plot(X, b + m * X, color='r')\n",
    "\n",
    "#Line 2; yellow line\n",
    "m=785.71\n",
    "plt.plot(X, b + m * X, color='y')\n",
    "\n",
    "#Line 3; black line\n",
    "m=868.42\n",
    "plt.plot(X, b + m * X, color='k')\n",
    "\n",
    "#add x and y labels and show plot\n",
    "plt.xlabel(\"Citympg\")\n",
    "plt.ylabel(\"Cars Prices\")\n",
    "plt.show()"
   ]
  },
  {
   "cell_type": "code",
   "execution_count": 42,
   "id": "38787494",
   "metadata": {},
   "outputs": [
    {
     "name": "stdout",
     "output_type": "stream",
     "text": [
      "Num of points: 6\n"
     ]
    }
   ],
   "source": [
    "#global\n",
    "numPoints=6\n",
    "print('Num of points:', numPoints)"
   ]
  },
  {
   "cell_type": "code",
   "execution_count": 43,
   "id": "a84c0633",
   "metadata": {},
   "outputs": [
    {
     "data": {
      "text/plain": [
       "LinearRegression()"
      ]
     },
     "execution_count": 43,
     "metadata": {},
     "output_type": "execute_result"
    }
   ],
   "source": [
    "#select the model\n",
    "from sklearn.linear_model import LinearRegression\n",
    "lm = LinearRegression()\n",
    "lm"
   ]
  },
  {
   "cell_type": "code",
   "execution_count": 44,
   "id": "145c8f47",
   "metadata": {},
   "outputs": [
    {
     "name": "stdout",
     "output_type": "stream",
     "text": [
      "<class 'pandas.core.series.Series'>\n",
      "<class 'numpy.ndarray'>\n",
      "[[21]\n",
      " [21]\n",
      " [19]\n",
      " [24]\n",
      " [18]\n",
      " [19]]\n"
     ]
    }
   ],
   "source": [
    "#set and select the training data\n",
    "#set the X\n",
    "type( inputDf.citympg )\n",
    "X=inputDf.citympg\n",
    "print( type(X) )\n",
    "X=X.values.reshape(-1, 1)\n",
    "print( type(X) )\n",
    "print( X[:numPoints] )\n",
    "#print(X)"
   ]
  },
  {
   "cell_type": "code",
   "execution_count": 45,
   "id": "0f28c422",
   "metadata": {},
   "outputs": [
    {
     "data": {
      "text/plain": [
       "pandas.core.series.Series"
      ]
     },
     "execution_count": 45,
     "metadata": {},
     "output_type": "execute_result"
    }
   ],
   "source": [
    "#set the Y\n",
    "Y=inputDf.price\n",
    "type(Y)"
   ]
  },
  {
   "cell_type": "code",
   "execution_count": 46,
   "id": "c9759dc6",
   "metadata": {},
   "outputs": [
    {
     "data": {
      "text/plain": [
       "LinearRegression()"
      ]
     },
     "execution_count": 46,
     "metadata": {},
     "output_type": "execute_result"
    }
   ],
   "source": [
    "#call the function\n",
    "lm.fit(X, Y)"
   ]
  },
  {
   "cell_type": "code",
   "execution_count": 47,
   "id": "6ea4cf5c",
   "metadata": {},
   "outputs": [
    {
     "data": {
      "text/plain": [
       "array([-837.39644453])"
      ]
     },
     "execution_count": 47,
     "metadata": {},
     "output_type": "execute_result"
    }
   ],
   "source": [
    "#check output\n",
    "lm.coef_"
   ]
  },
  {
   "cell_type": "code",
   "execution_count": 48,
   "id": "792136db",
   "metadata": {},
   "outputs": [
    {
     "data": {
      "text/plain": [
       "34395.44041563233"
      ]
     },
     "execution_count": 48,
     "metadata": {},
     "output_type": "execute_result"
    }
   ],
   "source": [
    "lm.intercept_"
   ]
  },
  {
   "cell_type": "markdown",
   "id": "a3968639",
   "metadata": {},
   "source": [
    "y=m*x+b <br>\n",
    "cars_prices= -837.396 * citympg + 34395.440 <br>"
   ]
  },
  {
   "cell_type": "code",
   "execution_count": 49,
   "id": "a78de6f6",
   "metadata": {},
   "outputs": [
    {
     "data": {
      "text/plain": [
       "array([16810.11508057, 16810.11508057, 18484.90796962, 14297.92574698,\n",
       "       19322.30441415, 18484.90796962])"
      ]
     },
     "execution_count": 49,
     "metadata": {},
     "output_type": "execute_result"
    }
   ],
   "source": [
    "#what are the predcited values for the first 6 points\n",
    "lm.predict(X)[0:numPoints]"
   ]
  },
  {
   "cell_type": "code",
   "execution_count": 50,
   "id": "3446c7a3",
   "metadata": {},
   "outputs": [
    {
     "data": {
      "text/plain": [
       "0    13495.0\n",
       "1    16500.0\n",
       "2    16500.0\n",
       "3    13950.0\n",
       "4    17450.0\n",
       "5    15250.0\n",
       "Name: price, dtype: float64"
      ]
     },
     "execution_count": 50,
     "metadata": {},
     "output_type": "execute_result"
    }
   ],
   "source": [
    "#what are the actual prices\n",
    "Y[0:numPoints]"
   ]
  },
  {
   "cell_type": "code",
   "execution_count": 51,
   "id": "e101a177",
   "metadata": {},
   "outputs": [
    {
     "data": {
      "text/html": [
       "<div>\n",
       "<style scoped>\n",
       "    .dataframe tbody tr th:only-of-type {\n",
       "        vertical-align: middle;\n",
       "    }\n",
       "\n",
       "    .dataframe tbody tr th {\n",
       "        vertical-align: top;\n",
       "    }\n",
       "\n",
       "    .dataframe thead th {\n",
       "        text-align: right;\n",
       "    }\n",
       "</style>\n",
       "<table border=\"1\" class=\"dataframe\">\n",
       "  <thead>\n",
       "    <tr style=\"text-align: right;\">\n",
       "      <th></th>\n",
       "      <th>Actual</th>\n",
       "      <th>Predicted</th>\n",
       "    </tr>\n",
       "  </thead>\n",
       "  <tbody>\n",
       "    <tr>\n",
       "      <th>0</th>\n",
       "      <td>13495.0</td>\n",
       "      <td>16810.115081</td>\n",
       "    </tr>\n",
       "    <tr>\n",
       "      <th>1</th>\n",
       "      <td>16500.0</td>\n",
       "      <td>16810.115081</td>\n",
       "    </tr>\n",
       "    <tr>\n",
       "      <th>2</th>\n",
       "      <td>16500.0</td>\n",
       "      <td>18484.907970</td>\n",
       "    </tr>\n",
       "    <tr>\n",
       "      <th>3</th>\n",
       "      <td>13950.0</td>\n",
       "      <td>14297.925747</td>\n",
       "    </tr>\n",
       "    <tr>\n",
       "      <th>4</th>\n",
       "      <td>17450.0</td>\n",
       "      <td>19322.304414</td>\n",
       "    </tr>\n",
       "    <tr>\n",
       "      <th>5</th>\n",
       "      <td>15250.0</td>\n",
       "      <td>18484.907970</td>\n",
       "    </tr>\n",
       "  </tbody>\n",
       "</table>\n",
       "</div>"
      ],
      "text/plain": [
       "    Actual     Predicted\n",
       "0  13495.0  16810.115081\n",
       "1  16500.0  16810.115081\n",
       "2  16500.0  18484.907970\n",
       "3  13950.0  14297.925747\n",
       "4  17450.0  19322.304414\n",
       "5  15250.0  18484.907970"
      ]
     },
     "execution_count": 51,
     "metadata": {},
     "output_type": "execute_result"
    }
   ],
   "source": [
    "df = pd.DataFrame({'Actual': Y[0:numPoints], 'Predicted': lm.predict(X)[0:numPoints]})\n",
    "df"
   ]
  },
  {
   "cell_type": "code",
   "execution_count": 52,
   "id": "3a5ecc45",
   "metadata": {},
   "outputs": [
    {
     "name": "stdout",
     "output_type": "stream",
     "text": [
      "carIds: [1, 2, 3, 4, 5, 6]\n"
     ]
    },
    {
     "data": {
      "image/png": "[encoded data removed]",
      "text/plain": [
       "<Figure size 432x288 with 1 Axes>"
      ]
     },
     "metadata": {
      "needs_background": "light"
     },
     "output_type": "display_data"
    }
   ],
   "source": [
    "carIds=list( range(1,numPoints+1) )\n",
    "print('carIds:', carIds)\n",
    "#plot the actual price in blue\n",
    "plt.scatter(carIds,inputDf.price[0:numPoints],color='blue')\n",
    "#plot the predicted price in red\n",
    "plt.scatter(carIds,lm.predict(X)[0:numPoints],color= 'red')\n",
    "plt.xlabel(\"Cars\")\n",
    "plt.ylabel(\"Price\")\n",
    "plt.title(\"Actual Cars prices vs predicted prices:Blue is Y and red is $\\\\hat{Y}$\")\n",
    "plt.show()"
   ]
  },
  {
   "cell_type": "code",
   "execution_count": 53,
   "id": "5c20bec3",
   "metadata": {},
   "outputs": [
    {
     "data": {
      "image/png": "[encoded data removed]",
      "text/plain": [
       "<Figure size 432x288 with 1 Axes>"
      ]
     },
     "metadata": {
      "needs_background": "light"
     },
     "output_type": "display_data"
    }
   ],
   "source": [
    "carIds=list( range(1,numPoints+1) )\n",
    "\n",
    "fig, axs = plt.subplots(ncols=1, nrows=1)\n",
    "for i in range(len(carIds)):\n",
    "    axs.plot([i+1,i+1],[lm.predict(X)[i], inputDf.price[i]], c=\"k\", linewidth=0.6)\n",
    "\n",
    "plt.scatter(carIds,inputDf.price[0:numPoints],color='blue')\n",
    "plt.scatter(carIds,lm.predict(X)[0:numPoints],color= 'red')\n",
    "plt.xlabel(\"Cars\")\n",
    "plt.ylabel(\"Price\")\n",
    "plt.title(\"Actual Cars prices vs predicted prices:Blue is Y and red is $\\\\hat{Y}$\")\n",
    "plt.show()"
   ]
  },
  {
   "cell_type": "code",
   "execution_count": 54,
   "id": "548c484c",
   "metadata": {},
   "outputs": [
    {
     "name": "stdout",
     "output_type": "stream",
     "text": [
      "(155, 1)\n",
      "(155,)\n",
      "(50, 1)\n",
      "(50,)\n"
     ]
    }
   ],
   "source": [
    "#pick the training and testing data manually to see how well the model perf\n",
    "#pick the training data\n",
    "X_train = X[:-50]\n",
    "Y_train = inputDf.price[:-50]\n",
    "\n",
    "#pick the testing data\n",
    "X_test = X[-50:]\n",
    "Y_test = inputDf.price[-50:]\n",
    "print (X_train.shape)\n",
    "print (Y_train.shape)\n",
    "\n",
    "print (X_test.shape)\n",
    "print (Y_test.shape)"
   ]
  },
  {
   "cell_type": "code",
   "execution_count": 55,
   "id": "920189b6",
   "metadata": {},
   "outputs": [
    {
     "name": "stdout",
     "output_type": "stream",
     "text": [
      "Finsihed fitting model\n"
     ]
    }
   ],
   "source": [
    "#call linear regression\n",
    "lm = LinearRegression()\n",
    "lm.fit(X_train, Y_train)\n",
    "print('Finsihed fitting model')"
   ]
  },
  {
   "cell_type": "code",
   "execution_count": 56,
   "id": "293644b1",
   "metadata": {},
   "outputs": [
    {
     "name": "stdout",
     "output_type": "stream",
     "text": [
      "Finsihed testing\n"
     ]
    }
   ],
   "source": [
    "#test\n",
    "pred_price_test = lm.predict(X_test)\n",
    "print('Finsihed testing')"
   ]
  },
  {
   "cell_type": "code",
   "execution_count": 57,
   "id": "ec3bed79",
   "metadata": {},
   "outputs": [
    {
     "data": {
      "text/html": [
       "<div>\n",
       "<style scoped>\n",
       "    .dataframe tbody tr th:only-of-type {\n",
       "        vertical-align: middle;\n",
       "    }\n",
       "\n",
       "    .dataframe tbody tr th {\n",
       "        vertical-align: top;\n",
       "    }\n",
       "\n",
       "    .dataframe thead th {\n",
       "        text-align: right;\n",
       "    }\n",
       "</style>\n",
       "<table border=\"1\" class=\"dataframe\">\n",
       "  <thead>\n",
       "    <tr style=\"text-align: right;\">\n",
       "      <th></th>\n",
       "      <th>Actual</th>\n",
       "      <th>Predicted</th>\n",
       "    </tr>\n",
       "  </thead>\n",
       "  <tbody>\n",
       "    <tr>\n",
       "      <th>155</th>\n",
       "      <td>8778.0</td>\n",
       "      <td>11851.974264</td>\n",
       "    </tr>\n",
       "    <tr>\n",
       "      <th>156</th>\n",
       "      <td>6938.0</td>\n",
       "      <td>9177.714870</td>\n",
       "    </tr>\n",
       "    <tr>\n",
       "      <th>157</th>\n",
       "      <td>7198.0</td>\n",
       "      <td>9177.714870</td>\n",
       "    </tr>\n",
       "    <tr>\n",
       "      <th>158</th>\n",
       "      <td>7898.0</td>\n",
       "      <td>5612.035679</td>\n",
       "    </tr>\n",
       "    <tr>\n",
       "      <th>159</th>\n",
       "      <td>7788.0</td>\n",
       "      <td>2046.356487</td>\n",
       "    </tr>\n",
       "  </tbody>\n",
       "</table>\n",
       "</div>"
      ],
      "text/plain": [
       "     Actual     Predicted\n",
       "155  8778.0  11851.974264\n",
       "156  6938.0   9177.714870\n",
       "157  7198.0   9177.714870\n",
       "158  7898.0   5612.035679\n",
       "159  7788.0   2046.356487"
      ]
     },
     "execution_count": 57,
     "metadata": {},
     "output_type": "execute_result"
    }
   ],
   "source": [
    "#see how well your model predicted cars prices using your test data\n",
    "df = pd.DataFrame({'Actual': Y_test, 'Predicted': pred_price_test})\n",
    "df.head()\n",
    "#df.shape"
   ]
  },
  {
   "cell_type": "code",
   "execution_count": 58,
   "id": "daac6662",
   "metadata": {},
   "outputs": [
    {
     "data": {
      "text/plain": [
       "0.2747038390477571"
      ]
     },
     "execution_count": 58,
     "metadata": {},
     "output_type": "execute_result"
    }
   ],
   "source": [
    "from sklearn.metrics import r2_score\n",
    "r2_score(Y_test, pred_price_test)"
   ]
  },
  {
   "cell_type": "code",
   "execution_count": 59,
   "id": "36f82829",
   "metadata": {},
   "outputs": [
    {
     "name": "stdout",
     "output_type": "stream",
     "text": [
      "Mean Absolute Error: 3149.56910237876\n",
      "Mean Squared Error: 13385399.251112146\n",
      "Root Mean Squared Error: 3658.606189672803\n"
     ]
    }
   ],
   "source": [
    "from sklearn import metrics\n",
    "print('Mean Absolute Error:', metrics.mean_absolute_error(Y_test, pred_price_test))\n",
    "print('Mean Squared Error:', metrics.mean_squared_error(Y_test, pred_price_test))\n",
    "print('Root Mean Squared Error:', np.sqrt(metrics.mean_squared_error(Y_test, pred_price_test)))"
   ]
  },
  {
   "cell_type": "code",
   "execution_count": 60,
   "id": "7d3749e9",
   "metadata": {},
   "outputs": [
    {
     "data": {
      "image/png": "[encoded data removed]",
      "text/plain": [
       "<Figure size 432x288 with 1 Axes>"
      ]
     },
     "metadata": {
      "needs_background": "light"
     },
     "output_type": "display_data"
    }
   ],
   "source": [
    "plt.scatter(X_train, Y_train, color = 'blue')\n",
    "plt.plot(X_train, lm.predict(X_train), color = 'black')\n",
    "plt.title('Citympg vs. Cars Prices')\n",
    "plt.xlabel('Citympg')\n",
    "plt.ylabel('Cars Prices')\n",
    "plt.show()"
   ]
  },
  {
   "cell_type": "markdown",
   "id": "5220afc1",
   "metadata": {},
   "source": [
    "<b> Which variable (feature) better explains the car price? How did you reach that conclusion?\n",
    "\n",
    "I found that the horsepower variable (feature) better explains the car price because generally when the horsepower increases the car price increases as well, we have a positive relationship.\n",
    "On the other hand, I found that whenever the Citympg variable (feature) increases the car price decrease which makes it a negative relationship.</b>\n"
   ]
  },
  {
   "cell_type": "code",
   "execution_count": null,
   "id": "d46cea2c",
   "metadata": {},
   "outputs": [],
   "source": []
  }
 ],
 "metadata": {
  "kernelspec": {
   "display_name": "Python 3",
   "language": "python",
   "name": "python3"
  },
  "language_info": {
   "codemirror_mode": {
    "name": "ipython",
    "version": 3
   },
   "file_extension": ".py",
   "mimetype": "text/x-python",
   "name": "python",
   "nbconvert_exporter": "python",
   "pygments_lexer": "ipython3",
   "version": "3.8.8"
  }
 },
 "nbformat": 4,
 "nbformat_minor": 5
}
